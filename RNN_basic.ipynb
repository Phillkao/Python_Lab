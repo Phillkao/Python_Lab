{
  "nbformat": 4,
  "nbformat_minor": 0,
  "metadata": {
    "colab": {
      "name": "RNN_basic",
      "version": "0.3.2",
      "provenance": [],
      "include_colab_link": true
    },
    "kernelspec": {
      "name": "python3",
      "display_name": "Python 3"
    },
    "accelerator": "TPU"
  },
  "cells": [
    {
      "cell_type": "markdown",
      "metadata": {
        "id": "view-in-github",
        "colab_type": "text"
      },
      "source": [
        "<a href=\"https://colab.research.google.com/github/Phillkao/Python_Lab/blob/master/RNN_basic.ipynb\" target=\"_parent\"><img src=\"https://colab.research.google.com/assets/colab-badge.svg\" alt=\"Open In Colab\"/></a>"
      ]
    },
    {
      "cell_type": "code",
      "metadata": {
        "id": "1yD8rUHxvRiP",
        "colab_type": "code",
        "outputId": "33fe6064-ad34-4be8-818c-add823cd5d80",
        "colab": {
          "base_uri": "https://localhost:8080/",
          "height": 34
        }
      },
      "source": [
        "!pip install numpy==1.16.2"
      ],
      "execution_count": 1,
      "outputs": [
        {
          "output_type": "stream",
          "text": [
            "Requirement already satisfied: numpy==1.16.2 in /usr/local/lib/python3.6/dist-packages (1.16.2)\n"
          ],
          "name": "stdout"
        }
      ]
    },
    {
      "cell_type": "code",
      "metadata": {
        "id": "XOfxNw-8rS3b",
        "colab_type": "code",
        "colab": {}
      },
      "source": [
        "%matplotlib inline\n",
        "import numpy as np\n",
        "import matplotlib.pyplot as plt"
      ],
      "execution_count": 0,
      "outputs": []
    },
    {
      "cell_type": "code",
      "metadata": {
        "id": "aRuStBMYro-h",
        "colab_type": "code",
        "outputId": "b3e0a828-d11a-404a-93f6-3c1cedb9bf25",
        "colab": {
          "base_uri": "https://localhost:8080/",
          "height": 34
        }
      },
      "source": [
        "from keras.datasets import imdb"
      ],
      "execution_count": 3,
      "outputs": [
        {
          "output_type": "stream",
          "text": [
            "Using TensorFlow backend.\n"
          ],
          "name": "stderr"
        }
      ]
    },
    {
      "cell_type": "code",
      "metadata": {
        "id": "BoGbGEhysZbu",
        "colab_type": "code",
        "colab": {}
      },
      "source": [
        "(x_train, y_train), (x_test, y_test) = imdb.load_data( num_words = 10000)"
      ],
      "execution_count": 0,
      "outputs": []
    },
    {
      "cell_type": "code",
      "metadata": {
        "id": "TL2fUyf8vepv",
        "colab_type": "code",
        "outputId": "0cada639-cae1-423d-9daf-814b78a4aa6c",
        "colab": {
          "base_uri": "https://localhost:8080/",
          "height": 51
        }
      },
      "source": [
        "print(len(x_train), 'train sequences')\n",
        "print(len(x_test), 'test sequences')"
      ],
      "execution_count": 5,
      "outputs": [
        {
          "output_type": "stream",
          "text": [
            "25000 train sequences\n",
            "25000 test sequences\n"
          ],
          "name": "stdout"
        }
      ]
    },
    {
      "cell_type": "code",
      "metadata": {
        "id": "W7MGM2QOyI_7",
        "colab_type": "code",
        "outputId": "dc62a261-5cc8-4366-c1bd-7eba05a6a8c5",
        "colab": {
          "base_uri": "https://localhost:8080/",
          "height": 34
        }
      },
      "source": [
        "x_train.shape"
      ],
      "execution_count": 6,
      "outputs": [
        {
          "output_type": "execute_result",
          "data": {
            "text/plain": [
              "(25000,)"
            ]
          },
          "metadata": {
            "tags": []
          },
          "execution_count": 6
        }
      ]
    },
    {
      "cell_type": "markdown",
      "metadata": {
        "id": "cOdD1gsGxweB",
        "colab_type": "text"
      },
      "source": [
        "## for training 長度相同"
      ]
    },
    {
      "cell_type": "code",
      "metadata": {
        "id": "0ruPFJ3Bvw1x",
        "colab_type": "code",
        "colab": {}
      },
      "source": [
        "from keras.preprocessing import sequence"
      ],
      "execution_count": 0,
      "outputs": []
    },
    {
      "cell_type": "code",
      "metadata": {
        "id": "MrGf_Q53yBGl",
        "colab_type": "code",
        "colab": {}
      },
      "source": [
        "x_train = sequence.pad_sequences(x_train, maxlen=150)\n",
        "x_test = sequence.pad_sequences(x_test, maxlen=150)"
      ],
      "execution_count": 0,
      "outputs": []
    },
    {
      "cell_type": "code",
      "metadata": {
        "id": "NqGikJpByL3u",
        "colab_type": "code",
        "outputId": "9a9d99fb-e21a-4c0a-d5ea-bd086b7ae14f",
        "colab": {
          "base_uri": "https://localhost:8080/",
          "height": 34
        }
      },
      "source": [
        "x_train.shape"
      ],
      "execution_count": 9,
      "outputs": [
        {
          "output_type": "execute_result",
          "data": {
            "text/plain": [
              "(25000, 150)"
            ]
          },
          "metadata": {
            "tags": []
          },
          "execution_count": 9
        }
      ]
    },
    {
      "cell_type": "code",
      "metadata": {
        "id": "EGIinZy8yNMd",
        "colab_type": "code",
        "colab": {}
      },
      "source": [
        "N = 100 #文字壓到N維\n",
        "K = 100 #LSTM有K個神經元"
      ],
      "execution_count": 0,
      "outputs": []
    },
    {
      "cell_type": "code",
      "metadata": {
        "id": "6Q9CXxD5zzzQ",
        "colab_type": "code",
        "colab": {}
      },
      "source": [
        "from keras.models import Sequential\n",
        "from keras.layers import Dense, Embedding ## embedding for 壓縮\n",
        "from keras.layers import LSTM"
      ],
      "execution_count": 0,
      "outputs": []
    },
    {
      "cell_type": "code",
      "metadata": {
        "id": "tC05nE9W0Q8i",
        "colab_type": "code",
        "colab": {
          "base_uri": "https://localhost:8080/",
          "height": 88
        },
        "outputId": "5c14834a-ea9f-48b0-aebd-0e6d4fac272b"
      },
      "source": [
        "model = Sequential()\n",
        "model.add(Embedding(10000, N))\n",
        "\n",
        "model.add(LSTM(K))\n",
        "\n",
        "model.add(Dense(1, activation='sigmoid'))"
      ],
      "execution_count": 12,
      "outputs": [
        {
          "output_type": "stream",
          "text": [
            "WARNING:tensorflow:From /usr/local/lib/python3.6/dist-packages/tensorflow/python/framework/op_def_library.py:263: colocate_with (from tensorflow.python.framework.ops) is deprecated and will be removed in a future version.\n",
            "Instructions for updating:\n",
            "Colocations handled automatically by placer.\n"
          ],
          "name": "stdout"
        }
      ]
    },
    {
      "cell_type": "code",
      "metadata": {
        "id": "G1oU0lFy0tSE",
        "colab_type": "code",
        "colab": {}
      },
      "source": [
        "model.compile(loss = 'binary_crossentropy',\n",
        "             optimizer = 'Adam',\n",
        "             metrics = ['acc'])"
      ],
      "execution_count": 0,
      "outputs": []
    },
    {
      "cell_type": "code",
      "metadata": {
        "id": "HQtYDfVo1gnS",
        "colab_type": "code",
        "outputId": "139ef1f1-ea5c-444f-c0f2-cf34f82a85f4",
        "colab": {
          "base_uri": "https://localhost:8080/",
          "height": 238
        }
      },
      "source": [
        "model.summary()"
      ],
      "execution_count": 14,
      "outputs": [
        {
          "output_type": "stream",
          "text": [
            "_________________________________________________________________\n",
            "Layer (type)                 Output Shape              Param #   \n",
            "=================================================================\n",
            "embedding_1 (Embedding)      (None, None, 100)         1000000   \n",
            "_________________________________________________________________\n",
            "lstm_1 (LSTM)                (None, 100)               80400     \n",
            "_________________________________________________________________\n",
            "dense_1 (Dense)              (None, 1)                 101       \n",
            "=================================================================\n",
            "Total params: 1,080,501\n",
            "Trainable params: 1,080,501\n",
            "Non-trainable params: 0\n",
            "_________________________________________________________________\n"
          ],
          "name": "stdout"
        }
      ]
    },
    {
      "cell_type": "code",
      "metadata": {
        "id": "Zkem6o6O1lZF",
        "colab_type": "code",
        "outputId": "b9aa2859-6f2d-4712-e96b-24d09647deb3",
        "colab": {
          "base_uri": "https://localhost:8080/",
          "height": 34
        }
      },
      "source": [
        "(10*19+10)*K"
      ],
      "execution_count": 15,
      "outputs": [
        {
          "output_type": "execute_result",
          "data": {
            "text/plain": [
              "20000"
            ]
          },
          "metadata": {
            "tags": []
          },
          "execution_count": 15
        }
      ]
    },
    {
      "cell_type": "code",
      "metadata": {
        "id": "UzQJpHI-3FdS",
        "colab_type": "code",
        "outputId": "c362cc9b-95f1-4e8d-c56e-695b1d72d718",
        "colab": {
          "base_uri": "https://localhost:8080/",
          "height": 462
        }
      },
      "source": [
        "model.fit(x_train,y_train, batch_size = 100, epochs = 10,\n",
        "         verbose = 1,\n",
        "         validation_data = (x_test, y_test))"
      ],
      "execution_count": 16,
      "outputs": [
        {
          "output_type": "stream",
          "text": [
            "WARNING:tensorflow:From /usr/local/lib/python3.6/dist-packages/tensorflow/python/ops/math_ops.py:3066: to_int32 (from tensorflow.python.ops.math_ops) is deprecated and will be removed in a future version.\n",
            "Instructions for updating:\n",
            "Use tf.cast instead.\n",
            "Train on 25000 samples, validate on 25000 samples\n",
            "Epoch 1/10\n",
            "25000/25000 [==============================] - 140s 6ms/step - loss: 0.4539 - acc: 0.7801 - val_loss: 0.3544 - val_acc: 0.8500\n",
            "Epoch 2/10\n",
            "25000/25000 [==============================] - 140s 6ms/step - loss: 0.2521 - acc: 0.9007 - val_loss: 0.3584 - val_acc: 0.8590\n",
            "Epoch 3/10\n",
            "25000/25000 [==============================] - 142s 6ms/step - loss: 0.1914 - acc: 0.9268 - val_loss: 0.3409 - val_acc: 0.8526\n",
            "Epoch 4/10\n",
            "25000/25000 [==============================] - 140s 6ms/step - loss: 0.1429 - acc: 0.9478 - val_loss: 0.3757 - val_acc: 0.8545\n",
            "Epoch 5/10\n",
            "25000/25000 [==============================] - 141s 6ms/step - loss: 0.1054 - acc: 0.9628 - val_loss: 0.4462 - val_acc: 0.8503\n",
            "Epoch 6/10\n",
            "25000/25000 [==============================] - 140s 6ms/step - loss: 0.0759 - acc: 0.9750 - val_loss: 0.5790 - val_acc: 0.8474\n",
            "Epoch 7/10\n",
            "25000/25000 [==============================] - 143s 6ms/step - loss: 0.0632 - acc: 0.9787 - val_loss: 0.6015 - val_acc: 0.8363\n",
            "Epoch 8/10\n",
            "25000/25000 [==============================] - 142s 6ms/step - loss: 0.0617 - acc: 0.9790 - val_loss: 0.5304 - val_acc: 0.8340\n",
            "Epoch 9/10\n",
            "25000/25000 [==============================] - 143s 6ms/step - loss: 0.0523 - acc: 0.9832 - val_loss: 0.6850 - val_acc: 0.8412\n",
            "Epoch 10/10\n",
            "25000/25000 [==============================] - 139s 6ms/step - loss: 0.0380 - acc: 0.9876 - val_loss: 0.6699 - val_acc: 0.8384\n"
          ],
          "name": "stdout"
        },
        {
          "output_type": "execute_result",
          "data": {
            "text/plain": [
              "<keras.callbacks.History at 0x7ff4360f4080>"
            ]
          },
          "metadata": {
            "tags": []
          },
          "execution_count": 16
        }
      ]
    },
    {
      "cell_type": "code",
      "metadata": {
        "id": "9Pko_Sg8-3JI",
        "colab_type": "code",
        "colab": {}
      },
      "source": [
        ""
      ],
      "execution_count": 0,
      "outputs": []
    }
  ]
}