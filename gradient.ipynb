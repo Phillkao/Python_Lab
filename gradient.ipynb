{
 "cells": [
  {
   "cell_type": "code",
   "execution_count": 1,
   "metadata": {
    "collapsed": true
   },
   "outputs": [],
   "source": [
    "%matplotlib inline\n",
    "\n",
    "import numpy as np\n",
    "import matplotlib.pyplot as plt\n",
    "import pandas as pd"
   ]
  },
  {
   "cell_type": "code",
   "execution_count": 2,
   "metadata": {
    "collapsed": false
   },
   "outputs": [],
   "source": [
    "def f(x):\n",
    "    y = x**2. + 2.*x +1.\n",
    "    return y\n",
    "\n",
    "def df(x):\n",
    "    y = 2.*x + 2.\n",
    "    return y"
   ]
  },
  {
   "cell_type": "code",
   "execution_count": 3,
   "metadata": {
    "collapsed": false
   },
   "outputs": [
    {
     "data": {
      "text/plain": [
       "[<matplotlib.lines.Line2D at 0x2b31ba0e9b0>]"
      ]
     },
     "execution_count": 3,
     "metadata": {},
     "output_type": "execute_result"
    },
    {
     "data": {
      "image/png": "[encoded data removed]",
      "text/plain": [
       "<matplotlib.figure.Figure at 0x2b31ba4f6a0>"
      ]
     },
     "metadata": {},
     "output_type": "display_data"
    }
   ],
   "source": [
    "x = np.linspace(-10,10,100)\n",
    "plt.plot(x, f(x))"
   ]
  },
  {
   "cell_type": "markdown",
   "metadata": {},
   "source": [
    "## W2 = W1 - lr * dW1"
   ]
  },
  {
   "cell_type": "code",
   "execution_count": 4,
   "metadata": {
    "collapsed": false
   },
   "outputs": [],
   "source": [
    "def gd(lr, x, times):\n",
    "    \n",
    "    for i in range(times):\n",
    "        x = x - lr * df(x)\n",
    "        plt.scatter(x,f(x))\n",
    "        print(f'iterateion  {i+1} : x = {x: .2f}  and f(x) =  {f(x): .5f}')"
   ]
  },
  {
   "cell_type": "code",
   "execution_count": 8,
   "metadata": {
    "collapsed": false
   },
   "outputs": [
    {
     "name": "stdout",
     "output_type": "stream",
     "text": [
      "please input your birthady: 111\n",
      "iterateion  1 : x = -5.67  and f(x) =   21.79022\n",
      "iterateion  2 : x = -4.63  and f(x) =   13.18927\n",
      "iterateion  3 : x = -3.83  and f(x) =   7.98326\n",
      "iterateion  4 : x = -3.20  and f(x) =   4.83214\n",
      "iterateion  5 : x = -2.71  and f(x) =   2.92482\n",
      "iterateion  6 : x = -2.33  and f(x) =   1.77034\n",
      "iterateion  7 : x = -2.04  and f(x) =   1.07156\n",
      "iterateion  8 : x = -1.81  and f(x) =   0.64860\n",
      "iterateion  9 : x = -1.63  and f(x) =   0.39259\n",
      "iterateion  10 : x = -1.49  and f(x) =   0.23763\n",
      "iterateion  11 : x = -1.38  and f(x) =   0.14383\n",
      "iterateion  12 : x = -1.30  and f(x) =   0.08706\n",
      "iterateion  13 : x = -1.23  and f(x) =   0.05270\n",
      "iterateion  14 : x = -1.18  and f(x) =   0.03190\n",
      "iterateion  15 : x = -1.14  and f(x) =   0.01931\n",
      "iterateion  16 : x = -1.11  and f(x) =   0.01169\n",
      "iterateion  17 : x = -1.08  and f(x) =   0.00707\n",
      "iterateion  18 : x = -1.07  and f(x) =   0.00428\n",
      "iterateion  19 : x = -1.05  and f(x) =   0.00259\n",
      "iterateion  20 : x = -1.04  and f(x) =   0.00157\n",
      "iterateion  21 : x = -1.03  and f(x) =   0.00095\n",
      "iterateion  22 : x = -1.02  and f(x) =   0.00057\n"
     ]
    },
    {
     "data": {
      "text/plain": [
       "[<matplotlib.lines.Line2D at 0x2b31c0bfcc0>]"
      ]
     },
     "execution_count": 8,
     "metadata": {},
     "output_type": "execute_result"
    },
    {
     "data": {
      "image/png": "[encoded data removed]",
      "text/plain": [
       "<matplotlib.figure.Figure at 0x2b31c043f60>"
      ]
     },
     "metadata": {},
     "output_type": "display_data"
    }
   ],
   "source": [
    "a= float(input(\"please input your birthady: \"))\n",
    "gd((a/1000), -7 , int(a/5))\n",
    "plt.plot(x,f(x))"
   ]
  },
  {
   "cell_type": "code",
   "execution_count": null,
   "metadata": {
    "collapsed": true
   },
   "outputs": [],
   "source": []
  }
 ],
 "metadata": {
  "kernelspec": {
   "display_name": "Python 3",
   "language": "python",
   "name": "python3"
  },
  "language_info": {
   "codemirror_mode": {
    "name": "ipython",
    "version": 3
   },
   "file_extension": ".py",
   "mimetype": "text/x-python",
   "name": "python",
   "nbconvert_exporter": "python",
   "pygments_lexer": "ipython3",
   "version": "3.6.0"
  }
 },
 "nbformat": 4,
 "nbformat_minor": 2
}
