{
 "cells": [
  {
   "cell_type": "code",
   "execution_count": 1,
   "metadata": {
    "collapsed": true
   },
   "outputs": [],
   "source": [
    "%matplotlib inline \n",
    "\n",
    "import numpy as np\n",
    "import matplotlib.pyplot as plt\n",
    "import pandas as pd"
   ]
  },
  {
   "cell_type": "markdown",
   "metadata": {},
   "source": [
    "# Import Data and analysis"
   ]
  },
  {
   "cell_type": "code",
   "execution_count": 2,
   "metadata": {
    "collapsed": false
   },
   "outputs": [
    {
     "data": {
      "text/html": [
       "<div>\n",
       "<table border=\"1\" class=\"dataframe\">\n",
       "  <thead>\n",
       "    <tr style=\"text-align: right;\">\n",
       "      <th></th>\n",
       "      <th>���</th>\n",
       "      <th>�������s�x��</th>\n",
       "      <th>�H�������s�x��</th>\n",
       "      <th>�ڤ�������</th>\n",
       "      <th>���������</th>\n",
       "      <th>�^�������</th>\n",
       "      <th>�D��������</th>\n",
       "      <th>���������.1</th>\n",
       "      <th>�������H����</th>\n",
       "      <th>�������n�D��</th>\n",
       "      <th>�ù�������</th>\n",
       "    </tr>\n",
       "  </thead>\n",
       "  <tbody>\n",
       "    <tr>\n",
       "      <th>0</th>\n",
       "      <td>2019/3/4</td>\n",
       "      <td>30.830</td>\n",
       "      <td>4.602549</td>\n",
       "      <td>1.13450</td>\n",
       "      <td>111.865</td>\n",
       "      <td>1.32400</td>\n",
       "      <td>0.70830</td>\n",
       "      <td>7.84905</td>\n",
       "      <td>6.69845</td>\n",
       "      <td>14.23755</td>\n",
       "      <td>0.68080</td>\n",
       "    </tr>\n",
       "    <tr>\n",
       "      <th>1</th>\n",
       "      <td>2019/3/5</td>\n",
       "      <td>30.847</td>\n",
       "      <td>4.598671</td>\n",
       "      <td>1.13185</td>\n",
       "      <td>111.940</td>\n",
       "      <td>1.31700</td>\n",
       "      <td>0.70760</td>\n",
       "      <td>7.84965</td>\n",
       "      <td>6.70780</td>\n",
       "      <td>14.18950</td>\n",
       "      <td>0.67930</td>\n",
       "    </tr>\n",
       "    <tr>\n",
       "      <th>2</th>\n",
       "      <td>2019/3/6</td>\n",
       "      <td>30.852</td>\n",
       "      <td>4.592814</td>\n",
       "      <td>1.13035</td>\n",
       "      <td>111.815</td>\n",
       "      <td>1.31375</td>\n",
       "      <td>0.70360</td>\n",
       "      <td>7.84985</td>\n",
       "      <td>6.71745</td>\n",
       "      <td>14.17770</td>\n",
       "      <td>0.67810</td>\n",
       "    </tr>\n",
       "    <tr>\n",
       "      <th>3</th>\n",
       "      <td>2019/3/7</td>\n",
       "      <td>30.869</td>\n",
       "      <td>4.596394</td>\n",
       "      <td>1.13075</td>\n",
       "      <td>111.775</td>\n",
       "      <td>1.31685</td>\n",
       "      <td>0.70400</td>\n",
       "      <td>7.84985</td>\n",
       "      <td>6.71590</td>\n",
       "      <td>14.26800</td>\n",
       "      <td>0.67800</td>\n",
       "    </tr>\n",
       "    <tr>\n",
       "      <th>4</th>\n",
       "      <td>2019/3/8</td>\n",
       "      <td>30.902</td>\n",
       "      <td>4.588422</td>\n",
       "      <td>1.12015</td>\n",
       "      <td>111.065</td>\n",
       "      <td>1.30885</td>\n",
       "      <td>0.70065</td>\n",
       "      <td>7.84985</td>\n",
       "      <td>6.73480</td>\n",
       "      <td>14.56610</td>\n",
       "      <td>0.67585</td>\n",
       "    </tr>\n",
       "  </tbody>\n",
       "</table>\n",
       "</div>"
      ],
      "text/plain": [
       "        ���  �������s�x��  �H�������s�x��  �ڤ�������  ���������  �^�������  \\\n",
       "0  2019/3/4        30.830        4.602549    1.13450    111.865    1.32400   \n",
       "1  2019/3/5        30.847        4.598671    1.13185    111.940    1.31700   \n",
       "2  2019/3/6        30.852        4.592814    1.13035    111.815    1.31375   \n",
       "3  2019/3/7        30.869        4.596394    1.13075    111.775    1.31685   \n",
       "4  2019/3/8        30.902        4.588422    1.12015    111.065    1.30885   \n",
       "\n",
       "   �D��������  ���������.1  �������H����  �������n�D��  �ù�������  \n",
       "0     0.70830      7.84905       6.69845      14.23755    0.68080  \n",
       "1     0.70760      7.84965       6.70780      14.18950    0.67930  \n",
       "2     0.70360      7.84985       6.71745      14.17770    0.67810  \n",
       "3     0.70400      7.84985       6.71590      14.26800    0.67800  \n",
       "4     0.70065      7.84985       6.73480      14.56610    0.67585  "
      ]
     },
     "execution_count": 2,
     "metadata": {},
     "output_type": "execute_result"
    }
   ],
   "source": [
    "df=pd.read_csv(\"http://www.taifex.com.tw/data_gov/taifex_open_data.asp?data_name=DailyForeignExchangeRates\")\n",
    "df.head()"
   ]
  },
  {
   "cell_type": "code",
   "execution_count": 3,
   "metadata": {
    "collapsed": true
   },
   "outputs": [],
   "source": [
    "df.columns=[\"日期\",\"美元新台幣\",\"人民幣新台幣\",\"歐元美元\",\"美元日幣\",\"英鎊美元\",\"澳幣美元\",\"美元港幣\",\"美元人民幣\",\"美元南非幣\",\"紐幣美元\"]"
   ]
  },
  {
   "cell_type": "code",
   "execution_count": 4,
   "metadata": {
    "collapsed": false
   },
   "outputs": [
    {
     "data": {
      "text/html": [
       "<div>\n",
       "<table border=\"1\" class=\"dataframe\">\n",
       "  <thead>\n",
       "    <tr style=\"text-align: right;\">\n",
       "      <th></th>\n",
       "      <th>日期</th>\n",
       "      <th>美元新台幣</th>\n",
       "      <th>人民幣新台幣</th>\n",
       "      <th>歐元美元</th>\n",
       "      <th>美元日幣</th>\n",
       "      <th>英鎊美元</th>\n",
       "      <th>澳幣美元</th>\n",
       "      <th>美元港幣</th>\n",
       "      <th>美元人民幣</th>\n",
       "      <th>美元南非幣</th>\n",
       "      <th>紐幣美元</th>\n",
       "    </tr>\n",
       "  </thead>\n",
       "  <tbody>\n",
       "    <tr>\n",
       "      <th>0</th>\n",
       "      <td>2019/3/4</td>\n",
       "      <td>30.830</td>\n",
       "      <td>4.602549</td>\n",
       "      <td>1.13450</td>\n",
       "      <td>111.865</td>\n",
       "      <td>1.32400</td>\n",
       "      <td>0.70830</td>\n",
       "      <td>7.84905</td>\n",
       "      <td>6.69845</td>\n",
       "      <td>14.23755</td>\n",
       "      <td>0.68080</td>\n",
       "    </tr>\n",
       "    <tr>\n",
       "      <th>1</th>\n",
       "      <td>2019/3/5</td>\n",
       "      <td>30.847</td>\n",
       "      <td>4.598671</td>\n",
       "      <td>1.13185</td>\n",
       "      <td>111.940</td>\n",
       "      <td>1.31700</td>\n",
       "      <td>0.70760</td>\n",
       "      <td>7.84965</td>\n",
       "      <td>6.70780</td>\n",
       "      <td>14.18950</td>\n",
       "      <td>0.67930</td>\n",
       "    </tr>\n",
       "    <tr>\n",
       "      <th>2</th>\n",
       "      <td>2019/3/6</td>\n",
       "      <td>30.852</td>\n",
       "      <td>4.592814</td>\n",
       "      <td>1.13035</td>\n",
       "      <td>111.815</td>\n",
       "      <td>1.31375</td>\n",
       "      <td>0.70360</td>\n",
       "      <td>7.84985</td>\n",
       "      <td>6.71745</td>\n",
       "      <td>14.17770</td>\n",
       "      <td>0.67810</td>\n",
       "    </tr>\n",
       "    <tr>\n",
       "      <th>3</th>\n",
       "      <td>2019/3/7</td>\n",
       "      <td>30.869</td>\n",
       "      <td>4.596394</td>\n",
       "      <td>1.13075</td>\n",
       "      <td>111.775</td>\n",
       "      <td>1.31685</td>\n",
       "      <td>0.70400</td>\n",
       "      <td>7.84985</td>\n",
       "      <td>6.71590</td>\n",
       "      <td>14.26800</td>\n",
       "      <td>0.67800</td>\n",
       "    </tr>\n",
       "    <tr>\n",
       "      <th>4</th>\n",
       "      <td>2019/3/8</td>\n",
       "      <td>30.902</td>\n",
       "      <td>4.588422</td>\n",
       "      <td>1.12015</td>\n",
       "      <td>111.065</td>\n",
       "      <td>1.30885</td>\n",
       "      <td>0.70065</td>\n",
       "      <td>7.84985</td>\n",
       "      <td>6.73480</td>\n",
       "      <td>14.56610</td>\n",
       "      <td>0.67585</td>\n",
       "    </tr>\n",
       "  </tbody>\n",
       "</table>\n",
       "</div>"
      ],
      "text/plain": [
       "         日期   美元新台幣    人民幣新台幣     歐元美元     美元日幣     英鎊美元     澳幣美元     美元港幣  \\\n",
       "0  2019/3/4  30.830  4.602549  1.13450  111.865  1.32400  0.70830  7.84905   \n",
       "1  2019/3/5  30.847  4.598671  1.13185  111.940  1.31700  0.70760  7.84965   \n",
       "2  2019/3/6  30.852  4.592814  1.13035  111.815  1.31375  0.70360  7.84985   \n",
       "3  2019/3/7  30.869  4.596394  1.13075  111.775  1.31685  0.70400  7.84985   \n",
       "4  2019/3/8  30.902  4.588422  1.12015  111.065  1.30885  0.70065  7.84985   \n",
       "\n",
       "     美元人民幣     美元南非幣     紐幣美元  \n",
       "0  6.69845  14.23755  0.68080  \n",
       "1  6.70780  14.18950  0.67930  \n",
       "2  6.71745  14.17770  0.67810  \n",
       "3  6.71590  14.26800  0.67800  \n",
       "4  6.73480  14.56610  0.67585  "
      ]
     },
     "execution_count": 4,
     "metadata": {},
     "output_type": "execute_result"
    }
   ],
   "source": [
    "df.head()"
   ]
  },
  {
   "cell_type": "markdown",
   "metadata": {},
   "source": [
    "# Regression\n",
    "###   from sklearn.linear_model import LinearRegression"
   ]
  },
  {
   "cell_type": "code",
   "execution_count": 5,
   "metadata": {
    "collapsed": true
   },
   "outputs": [],
   "source": [
    "from sklearn.linear_model import LinearRegression"
   ]
  },
  {
   "cell_type": "code",
   "execution_count": 6,
   "metadata": {
    "collapsed": true
   },
   "outputs": [],
   "source": [
    "regr = LinearRegression()"
   ]
  },
  {
   "cell_type": "code",
   "execution_count": 7,
   "metadata": {
    "collapsed": false
   },
   "outputs": [],
   "source": [
    "x= df.美元新台幣.values\n",
    "y= df.人民幣新台幣.values"
   ]
  },
  {
   "cell_type": "code",
   "execution_count": 8,
   "metadata": {
    "collapsed": false
   },
   "outputs": [
    {
     "data": {
      "text/plain": [
       "<matplotlib.collections.PathCollection at 0x1d810907ac8>"
      ]
     },
     "execution_count": 8,
     "metadata": {},
     "output_type": "execute_result"
    },
    {
     "data": {
      "image/png": "[encoded data removed]",
      "text/plain": [
       "<matplotlib.figure.Figure at 0x1d8107b50f0>"
      ]
     },
     "metadata": {},
     "output_type": "display_data"
    }
   ],
   "source": [
    "plt.scatter(x,y)"
   ]
  },
  {
   "cell_type": "code",
   "execution_count": 9,
   "metadata": {
    "collapsed": false
   },
   "outputs": [],
   "source": [
    "X = x.reshape(len(x), 1)\n",
    "regr.fit(X,y)\n",
    "Y = regr.predict(X)"
   ]
  },
  {
   "cell_type": "code",
   "execution_count": 10,
   "metadata": {
    "collapsed": false
   },
   "outputs": [
    {
     "data": {
      "text/plain": [
       "array([ 4.63665517])"
      ]
     },
     "execution_count": 10,
     "metadata": {},
     "output_type": "execute_result"
    }
   ],
   "source": [
    "regr.predict([[32]])  ##當美金兌台幣32塊時，人銀幣4.636元"
   ]
  },
  {
   "cell_type": "code",
   "execution_count": 11,
   "metadata": {
    "collapsed": false
   },
   "outputs": [
    {
     "data": {
      "text/plain": [
       "[<matplotlib.lines.Line2D at 0x1d8109a8828>]"
      ]
     },
     "execution_count": 11,
     "metadata": {},
     "output_type": "execute_result"
    },
    {
     "data": {
      "image/png": "[encoded data removed]",
      "text/plain": [
       "<matplotlib.figure.Figure at 0x1d8109a8f60>"
      ]
     },
     "metadata": {},
     "output_type": "display_data"
    }
   ],
   "source": [
    "plt.scatter(x, y)\n",
    "plt.plot(x, Y, 'r' )  ##有緩慢的正相關"
   ]
  },
  {
   "cell_type": "code",
   "execution_count": 12,
   "metadata": {
    "collapsed": false
   },
   "outputs": [
    {
     "data": {
      "text/plain": [
       "0.18388696011351921"
      ]
     },
     "execution_count": 12,
     "metadata": {},
     "output_type": "execute_result"
    }
   ],
   "source": [
    "df.美元新台幣.corr(df.人民幣新台幣)"
   ]
  },
  {
   "cell_type": "markdown",
   "metadata": {},
   "source": [
    "#### 利用多項式分析"
   ]
  },
  {
   "cell_type": "code",
   "execution_count": 13,
   "metadata": {
    "collapsed": false
   },
   "outputs": [],
   "source": [
    "X_poly = np.array([[k, k**2,k**3, k**4, k**5, k**6] for k in x])"
   ]
  },
  {
   "cell_type": "code",
   "execution_count": 14,
   "metadata": {
    "collapsed": false
   },
   "outputs": [
    {
     "data": {
      "text/plain": [
       "LinearRegression(copy_X=True, fit_intercept=True, n_jobs=1, normalize=False)"
      ]
     },
     "execution_count": 14,
     "metadata": {},
     "output_type": "execute_result"
    }
   ],
   "source": [
    "regr_2=LinearRegression()\n",
    "regr_2.fit(X_poly, y)"
   ]
  },
  {
   "cell_type": "code",
   "execution_count": 15,
   "metadata": {
    "collapsed": true
   },
   "outputs": [],
   "source": [
    "Y_poly=regr_2.predict(X_poly)"
   ]
  },
  {
   "cell_type": "code",
   "execution_count": 16,
   "metadata": {
    "collapsed": false
   },
   "outputs": [
    {
     "data": {
      "text/plain": [
       "array([ 4.63665517])"
      ]
     },
     "execution_count": 16,
     "metadata": {},
     "output_type": "execute_result"
    }
   ],
   "source": [
    "regr.predict([[32]])"
   ]
  },
  {
   "cell_type": "code",
   "execution_count": 17,
   "metadata": {
    "collapsed": false
   },
   "outputs": [
    {
     "name": "stdout",
     "output_type": "stream",
     "text": [
      "[ 4.59345385  4.58924052  4.58863398  4.59013888  4.5974898   4.59407279\n",
      "  4.59670874  4.59407279  4.59763667  4.59606501  4.59291217  4.59125182\n",
      "  4.59263465  4.59535453  4.59190509  4.59345385  4.59207484  4.58848426\n",
      "  4.58848426  4.5946326   4.58750102  4.59001681  4.59540889  4.58960101]\n"
     ]
    }
   ],
   "source": [
    "print(Y_poly)"
   ]
  },
  {
   "cell_type": "code",
   "execution_count": 18,
   "metadata": {
    "collapsed": false
   },
   "outputs": [
    {
     "data": {
      "text/plain": [
       "[<matplotlib.lines.Line2D at 0x1d810b2cc50>]"
      ]
     },
     "execution_count": 18,
     "metadata": {},
     "output_type": "execute_result"
    },
    {
     "data": {
      "image/png": "[encoded data removed]",
      "text/plain": [
       "<matplotlib.figure.Figure at 0x1d810b2c8d0>"
      ]
     },
     "metadata": {},
     "output_type": "display_data"
    }
   ],
   "source": [
    "plt.scatter(x, y)\n",
    "plt.plot(x, Y_poly, 'r')"
   ]
  }
 ],
 "metadata": {
  "kernelspec": {
   "display_name": "Python 3",
   "language": "python",
   "name": "python3"
  },
  "language_info": {
   "codemirror_mode": {
    "name": "ipython",
    "version": 3
   },
   "file_extension": ".py",
   "mimetype": "text/x-python",
   "name": "python",
   "nbconvert_exporter": "python",
   "pygments_lexer": "ipython3",
   "version": "3.6.0"
  }
 },
 "nbformat": 4,
 "nbformat_minor": 2
}
